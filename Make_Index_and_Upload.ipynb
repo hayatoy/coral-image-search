{
  "nbformat": 4,
  "nbformat_minor": 0,
  "metadata": {
    "colab": {
      "name": "Make_Index_and_Upload.ipynb",
      "provenance": [],
      "collapsed_sections": [],
      "toc_visible": true
    },
    "kernelspec": {
      "name": "python3",
      "display_name": "Python 3"
    }
  },
  "cells": [
    {
      "cell_type": "markdown",
      "metadata": {
        "id": "d4yiBKYC_PXs",
        "colab_type": "text"
      },
      "source": [
        "Specify your GCP Project ID and Bucket Name. \n",
        "\n",
        "You must create GCP Project ahead of this step."
      ]
    },
    {
      "cell_type": "code",
      "metadata": {
        "id": "yJiXzgUc8k1U",
        "colab_type": "code",
        "colab": {}
      },
      "source": [
        "project_id = 'Your_project_ID_here'\n",
        "bucket_name = 'Your_bucket_name_here'"
      ],
      "execution_count": 0,
      "outputs": []
    },
    {
      "cell_type": "markdown",
      "metadata": {
        "id": "k8OScuW9y3Au",
        "colab_type": "text"
      },
      "source": [
        "## Download & extract dataset\n",
        "We use [COCO dataset](http://cocodataset.org/) in this example."
      ]
    },
    {
      "cell_type": "code",
      "metadata": {
        "id": "f2Vd2J84ALAf",
        "colab_type": "code",
        "colab": {}
      },
      "source": [
        "!wget http://images.cocodataset.org/zips/val2017.zip"
      ],
      "execution_count": 0,
      "outputs": []
    },
    {
      "cell_type": "code",
      "metadata": {
        "id": "b7Fvmg0TAYXn",
        "colab_type": "code",
        "colab": {}
      },
      "source": [
        "!unzip -n -q val2017.zip"
      ],
      "execution_count": 0,
      "outputs": []
    },
    {
      "cell_type": "markdown",
      "metadata": {
        "id": "G1IldAG1BqKu",
        "colab_type": "text"
      },
      "source": [
        "Count files. It should be 5000."
      ]
    },
    {
      "cell_type": "code",
      "metadata": {
        "id": "FwMAtVDqBGkq",
        "colab_type": "code",
        "colab": {}
      },
      "source": [
        "import os\n",
        "\n",
        "path, dirs, files = next(os.walk(\"./val2017\"))\n",
        "len(files)"
      ],
      "execution_count": 0,
      "outputs": []
    },
    {
      "cell_type": "markdown",
      "metadata": {
        "id": "GuQWvdqAB2iB",
        "colab_type": "text"
      },
      "source": [
        "Let's check if we can read the image"
      ]
    },
    {
      "cell_type": "code",
      "metadata": {
        "id": "GO9NWQLe0JUz",
        "colab_type": "code",
        "colab": {}
      },
      "source": [
        "import random\n",
        "fname = random.sample(os.listdir(\"val2017/\"), k=1)[0]"
      ],
      "execution_count": 0,
      "outputs": []
    },
    {
      "cell_type": "code",
      "metadata": {
        "id": "DF_A8otKCBYJ",
        "colab_type": "code",
        "colab": {}
      },
      "source": [
        "from PIL import Image\n",
        "im = Image.open('./val2017/' + fname).convert('RGB').resize((224, 224))\n",
        "im"
      ],
      "execution_count": 0,
      "outputs": []
    },
    {
      "cell_type": "markdown",
      "metadata": {
        "id": "pn-yXlmN3c-I",
        "colab_type": "text"
      },
      "source": [
        "## Download tflite"
      ]
    },
    {
      "cell_type": "code",
      "metadata": {
        "id": "uSIl7eSB3kQa",
        "colab_type": "code",
        "colab": {}
      },
      "source": [
        "!wget https://github.com/google-coral/edgetpu/raw/master/test_data/mobilenet_v1_1.0_224_quant_embedding_extractor.tflite"
      ],
      "execution_count": 0,
      "outputs": []
    },
    {
      "cell_type": "markdown",
      "metadata": {
        "id": "65V-Q3qU3nX3",
        "colab_type": "text"
      },
      "source": [
        "## Install requrements"
      ]
    },
    {
      "cell_type": "code",
      "metadata": {
        "id": "Uo9m2s6OAee_",
        "colab_type": "code",
        "colab": {}
      },
      "source": [
        "!pip3 install pybind11 numpy setuptools tqdm hnswlib==0.3.4"
      ],
      "execution_count": 0,
      "outputs": []
    },
    {
      "cell_type": "markdown",
      "metadata": {
        "id": "HwTnMhY4DytF",
        "colab_type": "text"
      },
      "source": [
        "## Extract features from images"
      ]
    },
    {
      "cell_type": "code",
      "metadata": {
        "id": "NdW_Lvnb03_u",
        "colab_type": "code",
        "colab": {}
      },
      "source": [
        "import tensorflow as tf\n",
        "import numpy as np\n",
        "\n",
        "# Load TFLite model and allocate tensors.\n",
        "interpreter = tf.lite.Interpreter(model_path=\"mobilenet_v1_1.0_224_quant_embedding_extractor.tflite\")\n",
        "interpreter.allocate_tensors()\n",
        "\n",
        "# Get input and output tensors.\n",
        "input_details = interpreter.get_input_details()\n",
        "output_details = interpreter.get_output_details()\n",
        "print(input_details)\n",
        "\n",
        "def extract_feature(img):\n",
        "  input_shape = input_details[0]['shape']\n",
        "  input_data = np.array(img)\n",
        "  input_data = np.expand_dims(input_data, axis=0)\n",
        "  interpreter.set_tensor(input_details[0]['index'], input_data)\n",
        "\n",
        "  interpreter.invoke()\n",
        "\n",
        "  output_data = interpreter.get_tensor(output_details[0]['index'])\n",
        "  output_data = output_data.reshape((1, 1024))\n",
        "  return output_data\n",
        "\n",
        "# Test model.\n",
        "extract_feature(im)"
      ],
      "execution_count": 0,
      "outputs": []
    },
    {
      "cell_type": "markdown",
      "metadata": {
        "id": "gC3SogsqEK5J",
        "colab_type": "text"
      },
      "source": [
        "#### Iterate for all images\n",
        "Note that this takes several minutes"
      ]
    },
    {
      "cell_type": "code",
      "metadata": {
        "id": "zUvJZl372igr",
        "colab_type": "code",
        "colab": {}
      },
      "source": [
        "from tqdm import tqdm\n",
        "\n",
        "features = np.zeros((5000, 1024), np.uint8)\n",
        "directory = \"val2017/\"\n",
        "filenames = []\n",
        "\n",
        "for index, fname in tqdm(enumerate(os.listdir(directory))):\n",
        "  im = Image.open(directory + fname).convert('RGB').resize((224, 224))\n",
        "  feature = extract_feature(im)\n",
        "  features[index] = feature\n",
        "  filenames.append(fname)\n",
        "\n",
        "features.shape"
      ],
      "execution_count": 0,
      "outputs": []
    },
    {
      "cell_type": "markdown",
      "metadata": {
        "id": "c1sQgJe_OuEu",
        "colab_type": "text"
      },
      "source": [
        "#### Save filename list"
      ]
    },
    {
      "cell_type": "code",
      "metadata": {
        "id": "WV_i_eUJOWAA",
        "colab_type": "code",
        "colab": {}
      },
      "source": [
        "import pickle\n",
        "\n",
        "with open('file_names.pkl', 'wb') as f:\n",
        "  pickle.dump(filenames, f)"
      ],
      "execution_count": 0,
      "outputs": []
    },
    {
      "cell_type": "markdown",
      "metadata": {
        "id": "ipGvg8hHEtW9",
        "colab_type": "text"
      },
      "source": [
        "#### Generate index for fast approximate nearest neighbor search"
      ]
    },
    {
      "cell_type": "code",
      "metadata": {
        "id": "jPMDiAQjA_fX",
        "colab_type": "code",
        "colab": {}
      },
      "source": [
        "import hnswlib\n",
        "\n",
        "dim = features.shape[1]\n",
        "num_elements = features.shape[0]\n",
        "\n",
        "# Generating sample data\n",
        "data_labels = np.arange(num_elements)\n",
        "\n",
        "# Declaring index\n",
        "p = hnswlib.Index(space = 'cosine', dim = dim) # possible options are l2, cosine or ip\n",
        "\n",
        "# Initing index - the maximum number of elements should be known beforehand\n",
        "p.init_index(max_elements = num_elements, ef_construction = 200, M = 16)\n",
        "\n",
        "# Element insertion (can be called several times):\n",
        "p.add_items(features, data_labels)\n",
        "\n",
        "# Controlling the recall by setting ef:\n",
        "p.set_ef(50) # ef should always be > k\n",
        "\n",
        "# Save index\n",
        "p.save_index('index_5k.bin')"
      ],
      "execution_count": 0,
      "outputs": []
    },
    {
      "cell_type": "code",
      "metadata": {
        "id": "G3VXDpLf7Lns",
        "colab_type": "code",
        "colab": {}
      },
      "source": [
        "!ls -la"
      ],
      "execution_count": 0,
      "outputs": []
    },
    {
      "cell_type": "markdown",
      "metadata": {
        "id": "29k20IXK8N93",
        "colab_type": "text"
      },
      "source": [
        "## Upload files to Google Cloud Storage"
      ]
    },
    {
      "cell_type": "markdown",
      "metadata": {
        "id": "uwERzmM0_KWg",
        "colab_type": "text"
      },
      "source": [
        "#### Authenticate GCP user"
      ]
    },
    {
      "cell_type": "code",
      "metadata": {
        "id": "6g2BKJeB7YPS",
        "colab_type": "code",
        "colab": {}
      },
      "source": [
        "from google.colab import auth\n",
        "auth.authenticate_user()"
      ],
      "execution_count": 0,
      "outputs": []
    },
    {
      "cell_type": "markdown",
      "metadata": {
        "id": "cnh4F4Uw_75P",
        "colab_type": "text"
      },
      "source": [
        "#### Set Project ID"
      ]
    },
    {
      "cell_type": "code",
      "metadata": {
        "id": "JQ7oDX8e8mAp",
        "colab_type": "code",
        "colab": {}
      },
      "source": [
        "!gcloud config set project {project_id}"
      ],
      "execution_count": 0,
      "outputs": []
    },
    {
      "cell_type": "markdown",
      "metadata": {
        "id": "W7ipSPTM_-dE",
        "colab_type": "text"
      },
      "source": [
        "#### Create GCS Bucket\n",
        "if you have already created bucket, you can skip this step."
      ]
    },
    {
      "cell_type": "code",
      "metadata": {
        "id": "lT6DBHB184jz",
        "colab_type": "code",
        "colab": {}
      },
      "source": [
        "!gsutil mb -l asia-northeast1 gs://{bucket_name}"
      ],
      "execution_count": 0,
      "outputs": []
    },
    {
      "cell_type": "markdown",
      "metadata": {
        "id": "-l4FFqcSAIFg",
        "colab_type": "text"
      },
      "source": [
        "#### Copy images to GCS\n",
        "These files are served when "
      ]
    },
    {
      "cell_type": "code",
      "metadata": {
        "id": "336YOoF29hl4",
        "colab_type": "code",
        "colab": {}
      },
      "source": [
        "!gsutil -m rsync val2017 gs://{bucket_name}/images"
      ],
      "execution_count": 0,
      "outputs": []
    },
    {
      "cell_type": "markdown",
      "metadata": {
        "id": "fGIYs-R4Ka_X",
        "colab_type": "text"
      },
      "source": [
        "#### Make images public\n",
        "This step makes all images under `/images` readable to everyone."
      ]
    },
    {
      "cell_type": "code",
      "metadata": {
        "id": "yT-ffu3pKMJu",
        "colab_type": "code",
        "colab": {}
      },
      "source": [
        "!gsutil -m acl -r ch -u AllUsers:R gs://{bucket_name}/images"
      ],
      "execution_count": 0,
      "outputs": []
    },
    {
      "cell_type": "markdown",
      "metadata": {
        "id": "C_VRbEAjBYsd",
        "colab_type": "text"
      },
      "source": [
        "#### Copy index file to GCS\n",
        "This file will be used in Cloud Run."
      ]
    },
    {
      "cell_type": "code",
      "metadata": {
        "id": "VOlX4KXz-yIe",
        "colab_type": "code",
        "colab": {}
      },
      "source": [
        "!gsutil cp index_5k.bin gs://{bucket_name}/\n",
        "!gsutil cp file_names.pkl gs://{bucket_name}/"
      ],
      "execution_count": 0,
      "outputs": []
    }
  ]
}